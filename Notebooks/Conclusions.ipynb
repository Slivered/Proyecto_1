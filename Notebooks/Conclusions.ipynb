{
 "cells": [
  {
   "attachments": {},
   "cell_type": "markdown",
   "metadata": {},
   "source": [
    "# Who are the Authors with most adaptations to the big screen?"
   ]
  },
  {
   "cell_type": "code",
   "execution_count": null,
   "metadata": {},
   "outputs": [],
   "source": []
  },
  {
   "attachments": {},
   "cell_type": "markdown",
   "metadata": {},
   "source": [
    "Aqui observamos a varios escritores reconocidos mundialmente, pero también hay directores muy famosos, ¿por que es esto asi?\n",
    "Pues se debe a que algunas peliculas mas famosas de hollywood tienen versiones adaptadas a libros y son bastante populares, por lo que el top se compone de escritores\n",
    "y directores.\n",
    "Here we see many well known authors but we see aswell a few famous movie directors, why does this happen? i came to a conclusion that some popular movies that dont come from any book actually write a book expanding the movie, and this is included in the graph."
   ]
  },
  {
   "attachments": {},
   "cell_type": "markdown",
   "metadata": {},
   "source": [
    "![\"Author_Director\"](../Images/Popular_Author.png)"
   ]
  },
  {
   "cell_type": "markdown",
   "metadata": {},
   "source": [
    "# ¿Cuales son los libros que más exito han tenido en el cine?"
   ]
  },
  {
   "cell_type": "code",
   "execution_count": null,
   "metadata": {},
   "outputs": [],
   "source": []
  },
  {
   "cell_type": "markdown",
   "metadata": {},
   "source": [
    "Como podemos apreciar las peliculas mejor adaptadas al cine por lo general son incluso mejores que sus versiones originales que vienen de un libro, excepto en casos muy\n",
    "concretos como en El señor de los anillos que su versión original tiene una mejor valoración."
   ]
  },
  {
   "cell_type": "code",
   "execution_count": null,
   "metadata": {},
   "outputs": [],
   "source": []
  },
  {
   "cell_type": "markdown",
   "metadata": {},
   "source": [
    "# ¿Cual es el genero de libro mas popular que se adapta al cine?"
   ]
  },
  {
   "cell_type": "code",
   "execution_count": null,
   "metadata": {},
   "outputs": [],
   "source": []
  },
  {
   "cell_type": "markdown",
   "metadata": {},
   "source": [
    "# Cuantos lanzamientos de adaptaciones hay por año?"
   ]
  },
  {
   "attachments": {},
   "cell_type": "markdown",
   "metadata": {},
   "source": [
    "Me parece curioso indagar en los ultimos 20 años y ver cuantas adaptaciones de libros se han grabado."
   ]
  },
  {
   "cell_type": "code",
   "execution_count": null,
   "metadata": {},
   "outputs": [],
   "source": []
  },
  {
   "cell_type": "markdown",
   "metadata": {},
   "source": [
    "Como podemos apreciar, el lanzamiento de adaptaciones es algo muy fluctuante, tenemos años que tienen solamente 10 adaptaciones y hay otros que llegamos a las 20."
   ]
  },
  {
   "cell_type": "code",
   "execution_count": null,
   "metadata": {},
   "outputs": [],
   "source": []
  },
  {
   "cell_type": "markdown",
   "metadata": {},
   "source": [
    "# ¿Que es mas popular? ¿Un libro, o una pelicula?"
   ]
  },
  {
   "cell_type": "markdown",
   "metadata": {},
   "source": [
    "Para solucionar esta pregunta he extraido la media de todos los votos de peliculas en imdb y tambien la media de todos los votos de goodreads, asi puedo comparar \n",
    "la cantidad de votos que tiene cada plataforma de media."
   ]
  },
  {
   "cell_type": "code",
   "execution_count": null,
   "metadata": {},
   "outputs": [],
   "source": []
  },
  {
   "cell_type": "markdown",
   "metadata": {},
   "source": [
    "Como podemos observar las peliculas son bastante mas populares de media."
   ]
  },
  {
   "cell_type": "code",
   "execution_count": null,
   "metadata": {},
   "outputs": [],
   "source": []
  },
  {
   "attachments": {},
   "cell_type": "markdown",
   "metadata": {},
   "source": [
    "# Ahora viene la pregunta más polémica.\n",
    "# ¿Cual es la mejor versión? ¿La pelicula o el libro?"
   ]
  },
  {
   "cell_type": "code",
   "execution_count": null,
   "metadata": {},
   "outputs": [],
   "source": []
  },
  {
   "cell_type": "markdown",
   "metadata": {},
   "source": [
    "Siempre se ha dicho que el libro es mejor que la pelicula, pero como podemos observar la realidad es que la media de adaptaciónes al cine estan muy parejas a su versión en libro."
   ]
  }
 ],
 "metadata": {
  "kernelspec": {
   "display_name": "ironhack",
   "language": "python",
   "name": "python3"
  },
  "language_info": {
   "codemirror_mode": {
    "name": "ipython",
    "version": 3
   },
   "file_extension": ".py",
   "mimetype": "text/x-python",
   "name": "python",
   "nbconvert_exporter": "python",
   "pygments_lexer": "ipython3",
   "version": "3.9.13 (main, Oct 13 2022, 21:23:06) [MSC v.1916 64 bit (AMD64)]"
  },
  "orig_nbformat": 4,
  "vscode": {
   "interpreter": {
    "hash": "65b7599f6186181a4b80ca81fba347bd73305ca16c03b6761d91b86b0f734eb2"
   }
  }
 },
 "nbformat": 4,
 "nbformat_minor": 2
}
