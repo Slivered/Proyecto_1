{
 "cells": [
  {
   "cell_type": "code",
   "execution_count": 5,
   "id": "b5552d53",
   "metadata": {},
   "outputs": [],
   "source": [
    "import pandas as pd\n",
    "import numpy as np\n",
    "import pickle\n",
    "import sys\n",
    "sys.path.append(\"../\")\n",
    "import rsc.Resources as rsc\n",
    "from selenium import webdriver\n",
    "from time import sleep\n",
    "from webdriver_manager.chrome import ChromeDriverManager\n",
    "from selenium.webdriver.common.keys import Keys\n",
    "from selenium.webdriver.chrome.options import Options\n",
    "from fuzzywuzzy import process, fuzz\n",
    "import warnings\n",
    "warnings.filterwarnings('ignore')"
   ]
  },
  {
   "cell_type": "code",
   "execution_count": 6,
   "id": "c923db39",
   "metadata": {},
   "outputs": [],
   "source": [
    "#Here i the csv that ill be using.\n",
    "df_movies = pd.read_csv(\"../Data/imdb_top_1000.csv\")\n",
    "\n",
    "#I import the list that i scrapped with seleneum thats saved in a pickle so i dont lose the info when the kernel shuts down.\n",
    "with open(\"../Data/libros_scrap.pkl\", \"rb\") as alias:\n",
    "    libro2 =pickle.load(alias)"
   ]
  },
  {
   "cell_type": "code",
   "execution_count": 7,
   "id": "1671e8db",
   "metadata": {},
   "outputs": [],
   "source": [
    "#Seleneum configurations.\n",
    "\n",
    "opciones= Options()\n",
    "opciones.add_experimental_option('excludeSwitches', ['enable-automation'])#para ocultarme como robot\n",
    "opciones.add_experimental_option('useAutomationExtension', False)\n",
    "opciones.add_argument('--start-maximized') #empezar maximizado\n",
    "opciones.add_argument('user.data-dir=selenium') #guarda las cookies\n",
    "opciones.add_argument('--incognito')#incognito window"
   ]
  },
  {
   "cell_type": "code",
   "execution_count": null,
   "id": "b9ccf97f",
   "metadata": {},
   "outputs": [],
   "source": [
    "#This loop runs my seleneum with its function.\n",
    "libro = []\n",
    "resultado = []\n",
    "for i in df_movies[\"Series_Title\"]:\n",
    "    rsc.busqueda(i,resultado)\n",
    "    print(resultado)\n",
    "    libro.append(resultado)\n",
    "    resultado = []"
   ]
  },
  {
   "cell_type": "code",
   "execution_count": 8,
   "id": "602f85a4",
   "metadata": {},
   "outputs": [],
   "source": [
    "#Here i run all of my cleaning functions.\n",
    "scrap_limpio = rsc.listas_libros(libro2)\n",
    "lista_votos_limpio = [rsc.limpieza_votos(voto) for voto in scrap_limpio[2]]\n",
    "nota_promedio_limpio = [rsc.promedio(rati) for rati in scrap_limpio[1]]\n",
    "Autor_limpio = [rsc.Autor(auto) for auto in scrap_limpio[0]]\n",
    "fuzzy_titulo = rsc.semejanza(scrap_limpio[3],list(df_movies[\"Series_Title\"]))\n",
    "df_movies[\"Gross\"] = df_movies[\"Gross\"].str.replace(',','')"
   ]
  },
  {
   "cell_type": "code",
   "execution_count": 9,
   "id": "91dddbf6",
   "metadata": {},
   "outputs": [],
   "source": [
    "#I create columns in my movie DataFrame so i can then match movies with books\n",
    "df_movies[\"Existe_libro\"] = fuzzy_titulo\n",
    "df_movies[\"Autor_libro\"] = Autor_limpio\n",
    "df_movies[\"Nota_promedio_libro\"] = nota_promedio_limpio\n",
    "df_movies[\"Votos_libro\"] = lista_votos_limpio\n",
    "df_movies['Nota_promedio_libro'] = df_movies['Nota_promedio_libro'].apply(lambda x: x*2)"
   ]
  },
  {
   "cell_type": "code",
   "execution_count": 10,
   "id": "d95fd9e3",
   "metadata": {},
   "outputs": [
    {
     "data": {
      "text/plain": [
       "(None,)"
      ]
     },
     "execution_count": 10,
     "metadata": {},
     "output_type": "execute_result"
    }
   ],
   "source": [
    "#I create a new DataFrame with only the rows that match that there is an existing book.\n",
    "df_movies_limpio = df_movies[df_movies[\"Existe_libro\"] == True]\n",
    "\n",
    "#Here i copy all of the columns that i will use.\n",
    "df_libros = df_movies_limpio[[\"Autor_libro\",\"Nota_promedio_libro\",\"Votos_libro\"]].copy()\n",
    "\n",
    "#And here i eliminate all of the columns that i won't be using anymore.\n",
    "df_movies_limpio.drop(\"Existe_libro\",inplace=True,axis=1),\n",
    "#df_movies_limpio.drop(\"Nota_promedio_libro\",inplace=True,axis=1)\n",
    "#df_movies_limpio.drop(\"Votos_libro\",inplace=True,axis=1)\n",
    "#df_movies_limpio.drop(\"Autor_libro\",inplace=True,axis=1)\n",
    "\n"
   ]
  },
  {
   "cell_type": "code",
   "execution_count": 11,
   "id": "98757822",
   "metadata": {},
   "outputs": [],
   "source": [
    "#And finally i create two new CSV with all of the data that ill be for this project.\n",
    "df_movies_limpio.to_csv(f\"../Data/df_movies_limpio.csv\")\n",
    "df_libros.to_csv(f\"../Data/df_libros.csv\")"
   ]
  },
  {
   "cell_type": "code",
   "execution_count": null,
   "id": "ded83441",
   "metadata": {},
   "outputs": [],
   "source": []
  }
 ],
 "metadata": {
  "kernelspec": {
   "display_name": "ironhack",
   "language": "python",
   "name": "ironhack"
  },
  "language_info": {
   "codemirror_mode": {
    "name": "ipython",
    "version": 3
   },
   "file_extension": ".py",
   "mimetype": "text/x-python",
   "name": "python",
   "nbconvert_exporter": "python",
   "pygments_lexer": "ipython3",
   "version": "3.9.13"
  }
 },
 "nbformat": 4,
 "nbformat_minor": 5
}
